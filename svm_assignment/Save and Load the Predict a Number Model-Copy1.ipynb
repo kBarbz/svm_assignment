{
 "cells": [
  {
   "cell_type": "code",
   "execution_count": 14,
   "metadata": {},
   "outputs": [
    {
     "name": "stdout",
     "output_type": "stream",
     "text": [
      "Best parameter: {'C': 10.0, 'gamma': 0.001, 'kernel': 'rbf'}\n",
      "Cross-validation accuracy score: 0.981\n",
      "Test accuracy score: 1.000\n"
     ]
    }
   ],
   "source": [
    "from sklearn import datasets, svm\n",
    "from sklearn.model_selection import GridSearchCV\n",
    "import joblib\n",
    "import matplotlib.pyplot as plt\n",
    "import pandas as pd\n",
    "import numpy as np\n",
    "\n",
    "digits = datasets.load_digits()\n",
    "\n",
    "clf = svm.SVC(kernel='rbf', random_state=101)\n",
    "\n",
    "C_options = np.array([0.001, 0.01, 0.1, 1, 10, 100, 1000])\n",
    "gamma_options = np.array([0.001, 0.01, 0.1, 1, 10, 100, 1000])\n",
    "\n",
    "hyperparameter_search_space = [{\n",
    "    'kernel': ['rbf'],\n",
    "    'C': C_options,\n",
    "    'gamma': gamma_options\n",
    "}]\n",
    "\n",
    "gridsearch = GridSearchCV(\n",
    "    clf,\n",
    "    param_grid=hyperparameter_search_space,\n",
    "    cv=10\n",
    ")\n",
    "gridsearch.fit(digits.data[:-1], digits.target[:-1])\n",
    "\n",
    "cv_performance = gridsearch.best_score_\n",
    "test_performance = gridsearch.score(\n",
    "    digits.data[-1:], digits.target[-1:]\n",
    ")\n",
    "\n",
    "print('Best parameter: {}'.format(str(gridsearch.best_params_)))\n",
    "print('Cross-validation accuracy score: {0:0.3f}'.format(cv_performance))\n",
    "print('Test accuracy score: {0:0.3f}'.format(test_performance)) "
   ]
  },
  {
   "cell_type": "code",
   "execution_count": null,
   "metadata": {},
   "outputs": [],
   "source": []
  }
 ],
 "metadata": {
  "kernelspec": {
   "display_name": "Python 3",
   "language": "python",
   "name": "python3"
  },
  "language_info": {
   "codemirror_mode": {
    "name": "ipython",
    "version": 3
   },
   "file_extension": ".py",
   "mimetype": "text/x-python",
   "name": "python",
   "nbconvert_exporter": "python",
   "pygments_lexer": "ipython3",
   "version": "3.8.5"
  }
 },
 "nbformat": 4,
 "nbformat_minor": 4
}
