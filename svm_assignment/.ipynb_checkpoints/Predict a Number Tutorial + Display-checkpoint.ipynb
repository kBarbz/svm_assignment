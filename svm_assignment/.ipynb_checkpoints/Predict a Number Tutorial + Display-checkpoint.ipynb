{
 "cells": [
  {
   "cell_type": "code",
   "execution_count": 4,
   "metadata": {},
   "outputs": [],
   "source": [
    "from sklearn import datasets, svm\n",
    "import matpltlib.pyplot as plt"
   ]
  },
  {
   "cell_type": "code",
   "execution_count": 5,
   "metadata": {},
   "outputs": [],
   "source": [
    "digits = datasets.load_digits()"
   ]
  },
  {
   "cell_type": "code",
   "execution_count": 6,
   "metadata": {},
   "outputs": [],
   "source": [
    "clf = svm.SVC(gamma=0.001, C=100.)"
   ]
  },
  {
   "cell_type": "code",
   "execution_count": 10,
   "metadata": {},
   "outputs": [
    {
     "name": "stdout",
     "output_type": "stream",
     "text": [
      "[8]\n"
     ]
    }
   ],
   "source": [
    "clf.fit(digits.data, digits.target)\n",
    "# number 8\n",
    "sample_number_8 = [\n",
    "  [ 0.,  0.,  10.,  14.,   8.,   1.,  0.,  0. ],\n",
    "  [ 0.,  2.,  16.,  14.,   6.,   1.,  0.,  0. ],\n",
    "  [ 0.,  0.,  15.,  15.,   8.,  15.,  0.,  0. ],\n",
    "  [ 0.,  0.,   5.,  16.,  16.,  10.,  0.,  0. ],\n",
    "  [ 0.,  0.,  12.,  15.,  15.,  12.,  0.,  0. ],\n",
    "  [ 0.,  4.,  16.,   6.,   4.,  16.,  6.,  0. ],\n",
    "  [ 0.,  8.,  16.,  10.,   8.,  16.,  8.,  0. ],\n",
    "  [ 0.,  1.,   8.,  12.,  14.,  12.,  1.,  0. ],\n",
    "]\n",
    "\n",
    "# number 1\n",
    "sample_number_1 = [\n",
    "  [ 0.,  0.,  0.,  0.,  16.,  0.,  0.,  0. ],\n",
    "  [ 0.,  0.,  0.,  0.,  16.,  0.,  0.,  0. ],\n",
    "  [ 0.,  0.,  0.,  0.,  16.,  0.,  0.,  0. ],\n",
    "  [ 0.,  0.,  0.,  0.,  16.,  0.,  0.,  0. ],\n",
    "  [ 0.,  0.,  0.,  0.,  16.,  0.,  0.,  0. ],\n",
    "  [ 0.,  0.,  0.,  0.,  16.,  0.,  0.,  0. ],\n",
    "  [ 0.,  0.,  0.,  0.,  16.,  0.,  0.,  0. ],\n",
    "  [ 0.,  0.,  0.,  0.,  16.,  0.,  0.,  0. ],\n",
    "]\n",
    "# number 4\n",
    "sample_number_4 = [\n",
    "  [0.,   0.,  0.,  0.,   16.,   0.,   0.,   0.,],\n",
    "  [0.,   0.,  0.,  16.,   16.,   0.,   0.,   0.,],\n",
    "  [0.,   0.,  16.,  0.,   16.,   0.,   0.,   0.,],\n",
    "  [0.,   0.,  16.,  0.,   16.,   0.,   0.,   0.,],\n",
    "  [0.,   16.,  16.,  16.,  16.,   0.,   0.,   0.,],\n",
    "  [0.,   0.,  0.,   0.,   16.,   0.,   0.,   0.,],\n",
    "  [0.,   0.,  0.,   0.,   16.,   0.,   0.,   0.,],\n",
    "  [0.,   0.,  0.,   0.,   16.,   0.,   0.,   0.,],\n",
    "]\n",
    "result = clf.predict([[item for sublist in sample_number_8 for item in sublist]])\n",
    "\n",
    "print(result)"
   ]
  },
  {
   "cell_type": "code",
   "execution_count": null,
   "metadata": {},
   "outputs": [],
   "source": []
  }
 ],
 "metadata": {
  "kernelspec": {
   "display_name": "Python 3",
   "language": "python",
   "name": "python3"
  },
  "language_info": {
   "codemirror_mode": {
    "name": "ipython",
    "version": 3
   },
   "file_extension": ".py",
   "mimetype": "text/x-python",
   "name": "python",
   "nbconvert_exporter": "python",
   "pygments_lexer": "ipython3",
   "version": "3.8.5"
  }
 },
 "nbformat": 4,
 "nbformat_minor": 4
}
